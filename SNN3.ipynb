{
  "nbformat": 4,
  "nbformat_minor": 0,
  "metadata": {
    "colab": {
      "provenance": [],
      "include_colab_link": true
    },
    "kernelspec": {
      "name": "python3",
      "display_name": "Python 3"
    },
    "language_info": {
      "name": "python"
    }
  },
  "cells": [
    {
      "cell_type": "markdown",
      "metadata": {
        "id": "view-in-github",
        "colab_type": "text"
      },
      "source": [
        "<a href=\"https://colab.research.google.com/github/rshlomi/Side-Project/blob/main/SNN3.ipynb\" target=\"_parent\"><img src=\"https://colab.research.google.com/assets/colab-badge.svg\" alt=\"Open In Colab\"/></a>"
      ]
    },
    {
      "cell_type": "markdown",
      "source": [
        "# SNN\n",
        "\n",
        "Spiking neural network, based on the paper:\n",
        "<cite> [Jason K. Eshraghian, Max Ward, Emre Neftci, Xinxin Wang, Gregor Lenz, Girish Dwivedi, Mohammed Bennamoun, Doo Seok Jeong, and Wei D. Lu. \"Training Spiking Neural Networks Using Lessons From Deep Learning\".\n",
        "arXiv preprint arXiv:2109.12894, September 2021.](https://arxiv.org/abs/2109.12894) </cite>\n",
        "as well as the accompanying [tutorials](https://snntorch.readthedocs.io/en/latest/tutorials/index.html)."
      ],
      "metadata": {
        "id": "slsFBw7RiCqj"
      }
    },
    {
      "cell_type": "markdown",
      "source": [
        "Imports"
      ],
      "metadata": {
        "id": "WKDEQdgSikgY"
      }
    },
    {
      "cell_type": "code",
      "source": [
        "!pip install snntorch\n",
        "\n",
        "import snntorch as snn # main snntorch package\n",
        "import torch # PyTorch\n",
        "import torch.nn as nn # for Linear and Loss\n",
        "from torch.utils.data import DataLoader # for loading MNIST data\n",
        "from torchvision import datasets, transforms\n",
        "from numpy import mean\n",
        "import matplotlib.pyplot as plt\n",
        "from google.colab import drive # get images from Google Drive\n",
        "from PIL import Image # show image on screen\n",
        "from random import random"
      ],
      "metadata": {
        "colab": {
          "base_uri": "https://localhost:8080/"
        },
        "id": "hGEY3JtmFFfl",
        "outputId": "b70b457c-59f2-41c4-f45b-3a09ef7643d4"
      },
      "execution_count": 95,
      "outputs": [
        {
          "output_type": "stream",
          "name": "stdout",
          "text": [
            "Looking in indexes: https://pypi.org/simple, https://us-python.pkg.dev/colab-wheels/public/simple/\n",
            "Requirement already satisfied: snntorch in /usr/local/lib/python3.8/dist-packages (0.5.3)\n",
            "Requirement already satisfied: torch>=1.1.0 in /usr/local/lib/python3.8/dist-packages (from snntorch) (1.13.0+cu116)\n",
            "Requirement already satisfied: pandas in /usr/local/lib/python3.8/dist-packages (from snntorch) (1.3.5)\n",
            "Requirement already satisfied: matplotlib in /usr/local/lib/python3.8/dist-packages (from snntorch) (3.2.2)\n",
            "Requirement already satisfied: numpy>=1.17 in /usr/local/lib/python3.8/dist-packages (from snntorch) (1.21.6)\n",
            "Requirement already satisfied: typing-extensions in /usr/local/lib/python3.8/dist-packages (from torch>=1.1.0->snntorch) (4.4.0)\n",
            "Requirement already satisfied: cycler>=0.10 in /usr/local/lib/python3.8/dist-packages (from matplotlib->snntorch) (0.11.0)\n",
            "Requirement already satisfied: python-dateutil>=2.1 in /usr/local/lib/python3.8/dist-packages (from matplotlib->snntorch) (2.8.2)\n",
            "Requirement already satisfied: pyparsing!=2.0.4,!=2.1.2,!=2.1.6,>=2.0.1 in /usr/local/lib/python3.8/dist-packages (from matplotlib->snntorch) (3.0.9)\n",
            "Requirement already satisfied: kiwisolver>=1.0.1 in /usr/local/lib/python3.8/dist-packages (from matplotlib->snntorch) (1.4.4)\n",
            "Requirement already satisfied: six>=1.5 in /usr/local/lib/python3.8/dist-packages (from python-dateutil>=2.1->matplotlib->snntorch) (1.15.0)\n",
            "Requirement already satisfied: pytz>=2017.3 in /usr/local/lib/python3.8/dist-packages (from pandas->snntorch) (2022.6)\n"
          ]
        }
      ]
    },
    {
      "cell_type": "markdown",
      "source": [
        "## Network Architecture"
      ],
      "metadata": {
        "id": "QzAalQYukjI0"
      }
    },
    {
      "cell_type": "code",
      "source": [
        "side = 28\n",
        "num_inputs = side * side\n",
        "num_hidden = 500 # neurons in hidden layer\n",
        "num_outputs = 10 # one for each digit\n",
        "\n",
        "# Temporal Dynamics\n",
        "num_steps = 20\n",
        "beta = 0.95 # decay coefficient (fraction of membrane potential to be carried over to next time step)\n",
        "\n",
        "# Define a transform to be applied to MNIST dataset\n",
        "transform = transforms.Compose([\n",
        "            transforms.Resize((side, side)),\n",
        "            transforms.Grayscale(),\n",
        "            transforms.ToTensor(),\n",
        "            transforms.Normalize((0,), (1,))])\n",
        "\n",
        "# Get the static MNIST dataset (handwritten digits), often used for benchmarking neural networks\n",
        "batch_size = 128\n",
        "mnist_train = datasets.MNIST('/data/mnist', train=True, download=True, transform=transform)\n",
        "mnist_test = datasets.MNIST('/data/mnist', train=False, download=True, transform=transform)\n",
        "train_loader = DataLoader(mnist_train, batch_size=batch_size, shuffle=True, drop_last=True)\n",
        "test_loader = DataLoader(mnist_test, batch_size=batch_size, shuffle=True, drop_last=True)"
      ],
      "metadata": {
        "id": "IAXDEBwIgrOO"
      },
      "execution_count": 96,
      "outputs": []
    },
    {
      "cell_type": "markdown",
      "source": [
        "## Class and function definitions"
      ],
      "metadata": {
        "id": "51dqEPlzgt02"
      }
    },
    {
      "cell_type": "code",
      "execution_count": 97,
      "metadata": {
        "id": "vfCn67Uby1Lu"
      },
      "outputs": [],
      "source": [
        "# Define Network\n",
        "class Net(nn.Module):\n",
        "    def __init__(self):\n",
        "        super().__init__() # super refers to the superclass\n",
        "\n",
        "        # Initialize layers\n",
        "        self.linear1 = nn.Linear(num_inputs, num_hidden) # input layer\n",
        "        self.lif1 = snn.Leaky(beta=beta) # leaky integrate-and-fire\n",
        "        self.linear2 = nn.Linear(num_hidden, num_outputs) # apply a linear transformation\n",
        "        self.lif2 = snn.Leaky(beta=beta) # output layer\n",
        "\n",
        "    def forward(self, x):\n",
        "\n",
        "        # Membrabe potentials\n",
        "        mem1 = self.lif1.init_leaky()\n",
        "        mem2 = self.lif2.init_leaky()\n",
        "        \n",
        "        # output lists\n",
        "        spk2_rec = []\n",
        "        mem2_rec = []\n",
        "\n",
        "        step = 0\n",
        "        while step < num_steps:\n",
        "            current = self.linear1(x)\n",
        "            spk1, mem1 = self.lif1(current, mem1) # Use output from first layer as input to second layer\n",
        "            current = self.linear2(spk1)\n",
        "            spk2, mem2 = self.lif2(current, mem2) # Use output from third layer as input to fourth layer\n",
        "            spk2_rec.append(spk2)\n",
        "            mem2_rec.append(mem2)\n",
        "            step += 1\n",
        "\n",
        "        # convert list of tensors to one tensor\n",
        "        spikes = torch.stack(spk2_rec, dim=0)\n",
        "        mem_potentials = torch.stack(mem2_rec, dim=0)\n",
        "        return spikes, mem_potentials\n",
        "        \n",
        "# pass data into the network, \n",
        "# and compare the neuron with the highest number of spikes\n",
        "# with the target\n",
        "\n",
        "def print_batch_accuracy(data, targets, train=False):\n",
        "    output, _ = net(data.view(batch_size, -1)) # resize data and pass into SNN\n",
        "    s1 = output.sum(dim=0) # sum the spikes over time\n",
        "    _, idx = s1.max(1) # don't need first argument (max value); second is the index of the max\n",
        "\n",
        "    acc = 1 - mean((targets != idx).detach().cpu().numpy())\n",
        "    tt = \"Train\" if train else \"Test\"\n",
        "    print(f\"{tt} set accuracy for a single minibatch: {acc*100:.2f}%\")\n",
        "\n",
        "def accuracy_loss_monitor():\n",
        "    print(f\"Epoch {epoch}, Iteration {iter_counter}\")\n",
        "    print(f\"Train Set Loss: {train_loss_hist[counter]:.2f}\")\n",
        "    print(f\"Test Set Loss: {test_loss_hist[counter]:.2f}\")\n",
        "    print_batch_accuracy(data, targets, train=True)\n",
        "    print_batch_accuracy(test_data, test_targets, train=False)\n",
        "\n",
        "def load_display_id(path: str, device=torch.device(\"cpu\")) -> int:\n",
        "  \"\"\"Load image file from path, display it,\n",
        "  transform it as above, feed it to network, and return result\"\"\"\n",
        "  \n",
        "  if path[-3:] == 'png' or path[-4:] == 'jpeg':\n",
        "    try:\n",
        "      with open(path, 'rb') as f:\n",
        "        img = Image.open(f)\n",
        "        img = img.convert(\"L\") # 8-bit pixels, black and white\n",
        "    except:\n",
        "      print(\"Could not load image\")\n",
        "      return -1\n",
        "    display(img)\n",
        "    img = transform(img) # Defined above for MNIST set\n",
        "    print(img.size())\n",
        "    img = img[None, :] # match input dimensions to network\n",
        "    print(img.size())\n",
        "    img = img.to(device)\n",
        "    print(img.size())\n",
        "    net.eval() # make sure we're in evaluation (rather than training) mode\n",
        "    spk, _ = net(img.view(img.size(0), -1))\n",
        "    spk = spk.sum(dim=0)\n",
        "    _, idx = spk.max(1)\n",
        "    return idx[0].numpy().astype(int) # convert to plain (non-array) int\n",
        "  else:\n",
        "    print(\"Invalid image format: please use .png or .jpeg\")\n",
        "    return -2\n",
        "\n",
        "# How does network perform on Test set?\n",
        "def test_accuracy(dataset, device=torch.device(\"cpu\")):\n",
        "  total = 0\n",
        "  corrects = 0\n",
        "\n",
        "  loader = DataLoader(dataset, batch_size=batch_size, shuffle=True,\n",
        "                          drop_last=False) # keep all samples\n",
        "\n",
        "  with torch.no_grad():\n",
        "    net.eval() # make sure we're in evaluation (rather than training) mode\n",
        "    for data, targets in loader: # go over each batch\n",
        "      data = data.to(device)\n",
        "      targets = targets.to(device)\n",
        "      \n",
        "      # run the calibrated SNN (forward) to get output spike\n",
        "      test_spk, _ = net(data.view(data.size(0), -1)) # only need spikes, not membrane potential\n",
        "\n",
        "      # calculate total accuracy\n",
        "      spike_sum = test_spk.sum(dim=0) # sum up spikes\n",
        "      _, predicted = spike_sum.max(1) # get ouput index of max\n",
        "      correct = (predicted == targets)\n",
        "      correct = correct.sum()\n",
        "      corrects += correct.item() # convert to scalar and add to tally\n",
        "      total += targets.size(0)\n",
        "\n",
        "  print(f\"Total correctly classified test set images: {corrects}/{total}\")\n",
        "  print(f\"Test Set Accuracy: {100 * corrects / total:.2f}%\")    "
      ]
    },
    {
      "cell_type": "markdown",
      "source": [
        "## Train the network"
      ],
      "metadata": {
        "id": "wZM3P-nSg26G"
      }
    },
    {
      "cell_type": "code",
      "source": [
        "def train(seizure_threshold=0.0):\n",
        "  num_epochs = 1 # number of times to use ALL of the data\n",
        "  train_loss_hist = []\n",
        "  test_loss_hist = []\n",
        "  #def train(seizure_threshold=0):\n",
        "  counter = 0\n",
        "  seizures = 0\n",
        "  print_freq = 100 # how often to print results\n",
        "  device = torch.device(\"cpu\") # hardware\n",
        "  torch_zero = torch.zeros((1), dtype=torch.float, device=device) # loss initialization\n",
        "  silent = False # set to True to not see monitoring\n",
        "\n",
        "  # Instantiate the class and load the network onto CPU\n",
        "  net = Net().to(device)\n",
        "\n",
        "  \"\"\"The practical effect of choosing a **cross-entropy** loss function is that the membrane potential of the correct ouput (class) is \"encouraged\" to increase,\n",
        "  while all of the others are reduced.\"\"\"\n",
        "  loss = nn.CrossEntropyLoss(reduction=\"sum\") # rather than mean reduction\n",
        "\n",
        "  # robust optimizer that performs well on recurrent networks\n",
        "  # (At this point, no justification to change default parameters)\n",
        "  optimizer = torch.optim.Adam(net.parameters())\n",
        "\n",
        "  # Outer training loop, for going over all of the data\n",
        "  for epoch in range(num_epochs):\n",
        "      iter_counter = 0\n",
        "      train_batch = iter(train_loader)\n",
        "\n",
        "      # Minibatch training loop\n",
        "      for data, targets in train_batch:\n",
        "          if seizure_threshold > random():\n",
        "            data[data != 1] = 1\n",
        "            #print(\"Warning: no learning seizure activity\")\n",
        "            seizures += 1\n",
        "          data = data.to(device)\n",
        "          targets = targets.to(device)\n",
        "\n",
        "          # forward pass\n",
        "          net.train()\n",
        "          #_, mem_rec = net(data.view(batch_size, -1))\n",
        "          _, mem_rec = net(data.view(batch_size, -1))\n",
        "\n",
        "          # initialize the loss & sum over time\n",
        "          loss_val = torch.zeros((1), dtype=torch.float, device=device)\n",
        "          for step in range(num_steps):\n",
        "              loss_val += loss(mem_rec[step], targets) # cross-entropy defined ↑\n",
        "\n",
        "          # Gradient calculation + weight update\n",
        "          optimizer.zero_grad() # clear any previously stored gradients\n",
        "          loss_val.backward() # compute the gradient of the loss tensor\n",
        "          optimizer.step()\n",
        "\n",
        "          # Store loss history (for plotting)\n",
        "          train_loss_hist.append(loss_val.item())\n",
        "\n",
        "          # Test set\n",
        "          with torch.no_grad():\n",
        "              net.eval()\n",
        "              test_data, test_targets = next(iter(test_loader))\n",
        "              test_data = test_data.to(device)\n",
        "              test_targets = test_targets.to(device)\n",
        "\n",
        "              # Test set forward pass\n",
        "              test_spk, test_mem = net(test_data.view(batch_size, -1))\n",
        "\n",
        "              # Test set loss\n",
        "              test_loss = torch.zeros((1), dtype=torch.float, device=device)\n",
        "              for step in range(num_steps):\n",
        "                  test_loss += loss(test_mem[step], test_targets)\n",
        "              test_loss_hist.append(test_loss.item())\n",
        "\n",
        "              # Print train/test loss/accuracy\n",
        "              #if counter % print_freq == 0 and not silent:\n",
        "              #accuracy_loss_monitor()\n",
        "              #elif counter % print_freq == 1 and not silent:\n",
        "              #print(\"\\n\")\n",
        "              counter += 1\n",
        "              iter_counter +=1\n",
        "      print(f\"Seizure activity affected {seizures} of {iter_counter} iterations\")\n",
        "      print(f\"Seizure activity affected {seizures / iter_counter} of iterations\")\n",
        "  print(f\"Training loss decreased from {train_loss_hist[0]} to {train_loss_hist[-1]}\")\n",
        "  print(f\"and test loss decreased from {test_loss_hist[0]} to {test_loss_hist[-1]}\")\n",
        "  print(f\"over the course of {len(train_loss_hist)} iterations.\")            "
      ],
      "metadata": {
        "id": "KVQTT39HtUB6"
      },
      "execution_count": 101,
      "outputs": []
    },
    {
      "cell_type": "markdown",
      "source": [
        "# Plot Loss evolution and gauge performance for Training data"
      ],
      "metadata": {
        "id": "eiC6da7-hBHT"
      }
    },
    {
      "cell_type": "code",
      "source": [
        "train(0.6)\n",
        "fig = plt.figure()\n",
        "plt.plot(train_loss_hist)\n",
        "plt.plot(test_loss_hist)\n",
        "plt.title(\"Loss Curves\")\n",
        "plt.legend([\"Train\", \"Test\"])\n",
        "plt.xlabel(\"Iteration\")\n",
        "plt.ylabel(\"Loss\")\n",
        "plt.show()\n",
        "\n",
        "test_accuracy(mnist_test)"
      ],
      "metadata": {
        "colab": {
          "base_uri": "https://localhost:8080/",
          "height": 417
        },
        "id": "eFAOohDLE8Bt",
        "outputId": "e24816e7-d9d9-4445-dc29-1a1405e31ea4"
      },
      "execution_count": 102,
      "outputs": [
        {
          "output_type": "stream",
          "name": "stdout",
          "text": [
            "Seizure activity affected 264 of 468 iterations\n",
            "Seizure activity affected 0.5641025641025641 of iterations\n",
            "Training loss decreased from 6680.2041015625 to 2271.201416015625\n",
            "and test loss decreased from 6191.21044921875 to 1828.0343017578125\n",
            "over the course of 468 iterations.\n"
          ]
        },
        {
          "output_type": "display_data",
          "data": {
            "text/plain": [
              "<Figure size 432x288 with 1 Axes>"
            ],
            "image/png": "[encoded data removed]"
          },
          "metadata": {
            "needs_background": "light"
          }
        },
        {
          "output_type": "stream",
          "name": "stdout",
          "text": [
            "Total correctly classified test set images: 8977/10000\n",
            "Test Set Accuracy: 89.77%\n"
          ]
        }
      ]
    },
    {
      "cell_type": "markdown",
      "source": [
        "# ID [.jpeg and .png] images outside of MNIST (e.g. from Google Drive, local machine)\n",
        "Temporarily removed"
      ],
      "metadata": {
        "id": "HL9fY53mhGlH"
      }
    }
  ]
}